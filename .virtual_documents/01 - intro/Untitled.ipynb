import dataset_creation as dc
import model_pipeline as mp
import model_testing as mt
import outlier_removal as outrem
from sklearn.compose import ColumnTransformer
from sklearn.preprocessing import OneHotEncoder, StandardScaler
from sklearn.feature_extraction import DictVectorizer
from sklearn.linear_model import LinearRegression
import pandas as pd
from sklearn.metrics import mean_squared_error, r2_score
import seaborn as sns
import matplotlib.pyplot as plt


color = input('Color')
year = input('Year')
month = input('Month')
url = 'https://d37ci6vzurychx.cloudfront.net/trip-data/'+color+'_tripdata_'+year+'-'+month+'.parquet'
df = pd.read_parquet(url)
df.lpep_pickup_datetime = pd.to_datetime(df.lpep_pickup_datetime)
df.lpep_dropoff_datetime = pd.to_datetime(df.lpep_dropoff_datetime)
df['duration'] = None
df['duration']= df.lpep_dropoff_datetime - df.lpep_pickup_datetime
df['duration'] = df['duration'].dt.total_seconds()/60



categorical = ['PULocationID','DOLocationID']
numerical = ['trip_distance']
target = 'duration'
df[categorical] = df[categorical].astype(str)


df_train = df[categorical + numerical]


dv = DictVectorizer()
train_dict = df_train.to_dict(orient='records')    
X_train = dv.fit_transform(train_dict)


y_train = df[target].values

# 1. Initialize the model
model = LinearRegression()

# 2. Train the model
model.fit(X_train, y_train)


# 3. Make predictions
y_pred = model.predict(X_train)



# 4. Evaluate the model
mse = mean_squared_error(y_train, y_pred, squared=False)
r2 = r2_score(y_train, y_pred)

print(f"Mean Squared Error: {mse:.2f}")
print(f"R² Score: {r2:.2f}")

sns.distplot(y_pred, label='prediction')
sns.distplot(y_train, label='actual')

plt.legend()



