import pandas as pd
import sklearn
import matplotlib.pyplot as plt


year = input('Year')


month = input('Month')


url = 'https://d37ci6vzurychx.cloudfront.net/trip-data/yellow_tripdata_'+year+'-'+month+'.parquet'


url


df = pd.read_parquet(url)


df.head(5)


df.tpep_pickup_datetime = pd.to_datetime(df.tpep_pickup_datetime)
df.tpep_dropoff_datetime = pd.to_datetime(df.tpep_dropoff_datetime)


df.trip_time = None


df.trip_time= df.tpep_dropoff_datetime - df.tpep_pickup_datetime


df.trip_time = df.trip_time.dt.total_seconds()/60


df.trip_time.describe()


df.trip_distance


df.trip_speed = None


df.trip_speed = df.trip_distance / df.trip_time


df.trip_speed


plt.boxplot(df.trip_distance)
