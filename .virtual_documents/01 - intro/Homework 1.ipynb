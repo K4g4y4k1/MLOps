import pandas as pd
import sklearn


df = pd.read_parquet('yellow_tripdata_2025-01.parquet')


df.head(5)



