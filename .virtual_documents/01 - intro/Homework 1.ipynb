import pandas as pd
import sklearn
import matplotlib.pyplot as plt
import seaborn as sns
import dataset_creation as dc
import model_pipeline as mp
import model_testing as mt
import outlier_removal as outrem


df_train= dc.dataset_creation()


df_val= dc.dataset_creation()


df_train_clean = outrem.remove_outliers_iqr(df_train,'duration')


#sns.distplot(df_train_clean['duration'])


#df_train_clean['duration'].describe()


categorical = ['PULocationID','DOLocationID']
numerical = ['trip_distance']
target = 'duration'

#df_X_train = df_train_clean[categorical + numerical]
df_X_train = df_train[categorical + numerical]
Y_train = df_train[target]

X_val = df_val[categorical + numerical]
y_val = df_val[target]


X_train, dv = mp.train_preset(df_X_train)


X_test = mp.val_preset(X_val, dv)


model = mp.train_model(df_X_train,df_train,target)


predict = mp.predict(model, df_X_train)


predict


df_val['duration']


mt.model_evaluator(Y_train,predict)
