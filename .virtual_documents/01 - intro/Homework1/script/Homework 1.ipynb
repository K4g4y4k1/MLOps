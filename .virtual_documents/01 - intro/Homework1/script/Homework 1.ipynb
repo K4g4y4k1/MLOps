import pandas as pd
import numpy as np
from sklearn.feature_extraction import DictVectorizer
from sklearn.linear_model import LinearRegression
from sklearn.metrics import mean_squared_error, r2_score
import seaborn as sns
import matplotlib.pyplot as plt
import matplotlib.pyplot as plt
import warnings
warnings.filterwarnings("ignore")








df = pd.read_parquet('../data source/yellow_tripdata_2023-01.parquet')


len(df.columns)





df.columns


df['duration'] = df['tpep_dropoff_datetime'] - df['tpep_pickup_datetime']
df['duration'] = df['duration'].dt.total_seconds()/60


std_dev = np.std(df['duration'], ddof=1)
std_dev





len(df['duration'])


df['duration'].describe()


df_cleaned = df[df['duration'] >= 1][df['duration'] <= 60]


df_cleaned['duration'].describe()


pct_left = (len(df_cleaned['duration'])*100)/len(df['duration'])
pct_left





categorical = ['PULocationID', 'DOLocationID']


df_categorical = df_cleaned[categorical].astype(str)


df_categorical.info()


dv = DictVectorizer()
train_dict = df_categorical.to_dict(orient='records')





target = 'duration'


X_train = dv.fit_transform(train_dict)
y_train = df_cleaned[target].values


model = LinearRegression()


model.fit(X_train, y_train)


y_pred = model.predict(X_train)


mse = mean_squared_error(y_train, y_pred, squared=False)
r2 = r2_score(y_train, y_pred)

print(f"Mean Squared Error: {mse:.2f}")
print(f"R² Score: {r2:.2f}")

#sns.distplot(y_pred, label='prediction')
#sns.distplot(y_train, label='actual')





df_val = pd.read_parquet('https://d37ci6vzurychx.cloudfront.net/trip-data/yellow_tripdata_2023-02.parquet')
df_val['duration'] = df_val['tpep_dropoff_datetime'] - df_val['tpep_pickup_datetime']
df_val['duration'] = df_val['duration'].dt.total_seconds()/60


df_val_cleaned = df_val[df_val['duration'] >= 1][df_val['duration'] <= 60]


df_val_cat = df_val_cleaned[categorical].astype(str)


df_val_cat.info()


val_dict = df_val_cat.to_dict(orient='records')    


X_test = dv.transform(val_dict)
y_test = df_val_cleaned[target].values


y_val_pred = model.predict(X_test)


mse = mean_squared_error(y_test, y_val_pred, squared=False)
r2 = r2_score(y_test, y_val_pred)

print(f"Mean Squared Error: {mse:.2f}")
print(f"R² Score: {r2:.2f}")
