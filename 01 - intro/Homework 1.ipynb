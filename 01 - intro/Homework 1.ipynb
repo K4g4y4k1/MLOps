{
 "cells": [
  {
   "cell_type": "code",
   "execution_count": 1,
   "id": "c2b61c55-db09-42c8-9192-4078ca9980bb",
   "metadata": {},
   "outputs": [],
   "source": [
    "import pandas as pd\n",
    "import sklearn\n",
    "import matplotlib.pyplot as plt\n",
    "import seaborn as sns\n",
    "import dataset_creation as dc\n",
    "import model_pipeline as mp\n",
    "import model_testing as mt\n",
    "import outlier_removal as outrem"
   ]
  },
  {
   "cell_type": "code",
   "execution_count": 2,
   "id": "24ff7026-eac5-415b-b2e0-a8df39b22a86",
   "metadata": {},
   "outputs": [
    {
     "name": "stdin",
     "output_type": "stream",
     "text": [
      "Color green\n",
      "Year 2021\n",
      "Month 01\n"
     ]
    }
   ],
   "source": [
    "df_train= dc.dataset_creation()"
   ]
  },
  {
   "cell_type": "code",
   "execution_count": 3,
   "id": "c05f4d86-6299-4b73-b52a-a2f78a07c47a",
   "metadata": {},
   "outputs": [
    {
     "name": "stdin",
     "output_type": "stream",
     "text": [
      "Color green\n",
      "Year 2021\n",
      "Month 02\n"
     ]
    }
   ],
   "source": [
    "df_val= dc.dataset_creation()"
   ]
  },
  {
   "cell_type": "code",
   "execution_count": 4,
   "id": "0017909d-5dc1-4d70-92dd-94c347f236db",
   "metadata": {},
   "outputs": [],
   "source": [
    "df_train_clean = outrem.remove_outliers_iqr(df_train,'duration')"
   ]
  },
  {
   "cell_type": "code",
   "execution_count": 5,
   "id": "e1584bee-36d7-4825-8932-640cb4577877",
   "metadata": {},
   "outputs": [],
   "source": [
    "#sns.distplot(df_train_clean['duration'])"
   ]
  },
  {
   "cell_type": "code",
   "execution_count": 6,
   "id": "8c442701-1b6e-46db-9346-e6705b8146d3",
   "metadata": {},
   "outputs": [],
   "source": [
    "#df_train_clean['duration'].describe()"
   ]
  },
  {
   "cell_type": "code",
   "execution_count": 11,
   "id": "cef4171c-1782-4e0e-b95a-bbfe67db71a4",
   "metadata": {},
   "outputs": [],
   "source": [
    "categorical = ['PULocationID','DOLocationID']\n",
    "numerical = ['trip_distance']\n",
    "target = 'duration'\n",
    "\n",
    "#df_X_train = df_train_clean[categorical + numerical]\n",
    "df_X_train = df_train[categorical + numerical]\n",
    "Y_train = df_train[target]\n",
    "\n",
    "X_val = df_val[categorical + numerical]\n",
    "y_val = df_val[target]"
   ]
  },
  {
   "cell_type": "code",
   "execution_count": 12,
   "id": "eebf206a-98dd-4d51-8641-bbb12a62c0ac",
   "metadata": {},
   "outputs": [],
   "source": [
    "X_train, dv = mp.train_preset(df_X_train)"
   ]
  },
  {
   "cell_type": "code",
   "execution_count": 13,
   "id": "4a553b18-4eab-49ad-a503-de6db3ee06b8",
   "metadata": {},
   "outputs": [],
   "source": [
    "X_test = mp.val_preset(X_val, dv)"
   ]
  },
  {
   "cell_type": "code",
   "execution_count": 14,
   "id": "828421b5-cdbf-406a-a463-5f18319774ef",
   "metadata": {},
   "outputs": [],
   "source": [
    "model = mp.train_model(df_X_train,df_train,target)"
   ]
  },
  {
   "cell_type": "code",
   "execution_count": 15,
   "id": "6cd67e04-6def-490a-a2f5-ff38ca01456b",
   "metadata": {},
   "outputs": [],
   "source": [
    "predict = mp.predict(model, df_X_train)"
   ]
  },
  {
   "cell_type": "code",
   "execution_count": 16,
   "id": "b9c39f5e-b1e0-4e68-91ed-c36c3c45c896",
   "metadata": {},
   "outputs": [
    {
     "data": {
      "text/plain": [
       "array([19.07178234, 21.5952221 , 18.22024356, ..., 18.92285868,\n",
       "       21.44524736, 20.92201395])"
      ]
     },
     "execution_count": 16,
     "metadata": {},
     "output_type": "execute_result"
    }
   ],
   "source": [
    "predict"
   ]
  },
  {
   "cell_type": "code",
   "execution_count": 17,
   "id": "e238920b-0e0d-4a09-a54e-9eec2fa63b93",
   "metadata": {},
   "outputs": [
    {
     "data": {
      "text/plain": [
       "0        17.916667\n",
       "1         6.500000\n",
       "2        15.250000\n",
       "3        18.233333\n",
       "4         8.966667\n",
       "           ...    \n",
       "64567    10.000000\n",
       "64568     9.000000\n",
       "64569    14.000000\n",
       "64570     7.000000\n",
       "64571     7.000000\n",
       "Name: duration, Length: 64572, dtype: float64"
      ]
     },
     "execution_count": 17,
     "metadata": {},
     "output_type": "execute_result"
    }
   ],
   "source": [
    "df_val['duration']"
   ]
  },
  {
   "cell_type": "code",
   "execution_count": 18,
   "id": "fbbc3fd7-83ea-45a2-a462-0694a9a2dd60",
   "metadata": {},
   "outputs": [
    {
     "name": "stdout",
     "output_type": "stream",
     "text": [
      "Mean Squared Error: 59.32\n",
      "R² Score: 0.00\n"
     ]
    },
    {
     "name": "stderr",
     "output_type": "stream",
     "text": [
      "/workspaces/MLOps/01 - intro/model_testing.py:13: UserWarning: \n",
      "\n",
      "`distplot` is a deprecated function and will be removed in seaborn v0.14.0.\n",
      "\n",
      "Please adapt your code to use either `displot` (a figure-level function with\n",
      "similar flexibility) or `histplot` (an axes-level function for histograms).\n",
      "\n",
      "For a guide to updating your code to use the new functions, please see\n",
      "https://gist.github.com/mwaskom/de44147ed2974457ad6372750bbe5751\n",
      "\n",
      "  sns.distplot(y_pred, label='prediction')\n",
      "/home/codespace/anaconda3/lib/python3.11/site-packages/seaborn/_oldcore.py:1119: FutureWarning: use_inf_as_na option is deprecated and will be removed in a future version. Convert inf values to NaN before operating instead.\n",
      "  with pd.option_context('mode.use_inf_as_na', True):\n",
      "/workspaces/MLOps/01 - intro/model_testing.py:14: UserWarning: \n",
      "\n",
      "`distplot` is a deprecated function and will be removed in seaborn v0.14.0.\n",
      "\n",
      "Please adapt your code to use either `displot` (a figure-level function with\n",
      "similar flexibility) or `histplot` (an axes-level function for histograms).\n",
      "\n",
      "For a guide to updating your code to use the new functions, please see\n",
      "https://gist.github.com/mwaskom/de44147ed2974457ad6372750bbe5751\n",
      "\n",
      "  sns.distplot(y_train, label='actual')\n",
      "/home/codespace/anaconda3/lib/python3.11/site-packages/seaborn/_oldcore.py:1119: FutureWarning: use_inf_as_na option is deprecated and will be removed in a future version. Convert inf values to NaN before operating instead.\n",
      "  with pd.option_context('mode.use_inf_as_na', True):\n"
     ]
    },
    {
     "data": {
      "image/png": "[encoded data removed]",
      "text/plain": [
       "<Figure size 640x480 with 1 Axes>"
      ]
     },
     "metadata": {},
     "output_type": "display_data"
    }
   ],
   "source": [
    "mt.model_evaluator(Y_train,predict)"
   ]
  }
 ],
 "metadata": {
  "kernelspec": {
   "display_name": "Python 3 (ipykernel)",
   "language": "python",
   "name": "python3"
  },
  "language_info": {
   "codemirror_mode": {
    "name": "ipython",
    "version": 3
   },
   "file_extension": ".py",
   "mimetype": "text/x-python",
   "name": "python",
   "nbconvert_exporter": "python",
   "pygments_lexer": "ipython3",
   "version": "3.11.7"
  }
 },
 "nbformat": 4,
 "nbformat_minor": 5
}
