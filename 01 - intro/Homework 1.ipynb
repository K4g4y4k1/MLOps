{
 "cells": [
  {
   "cell_type": "code",
   "execution_count": 33,
   "id": "c2b61c55-db09-42c8-9192-4078ca9980bb",
   "metadata": {},
   "outputs": [],
   "source": [
    "import pandas as pd\n",
    "import sklearn\n",
    "import matplotlib.pyplot as plt"
   ]
  },
  {
   "cell_type": "code",
   "execution_count": 2,
   "id": "a5710ad5-37ba-4120-b2e4-f9065c0bc780",
   "metadata": {},
   "outputs": [
    {
     "name": "stdin",
     "output_type": "stream",
     "text": [
      "Year 2024\n"
     ]
    }
   ],
   "source": [
    "year = input('Year')"
   ]
  },
  {
   "cell_type": "code",
   "execution_count": 3,
   "id": "839723be-7a3a-4838-9bac-cb1bbc16c11d",
   "metadata": {},
   "outputs": [
    {
     "name": "stdin",
     "output_type": "stream",
     "text": [
      "Month 01\n"
     ]
    }
   ],
   "source": [
    "month = input('Month')"
   ]
  },
  {
   "cell_type": "code",
   "execution_count": 4,
   "id": "8aedc65f-ef5a-47c9-8fa0-de2ef88fd6d0",
   "metadata": {},
   "outputs": [],
   "source": [
    "url = 'https://d37ci6vzurychx.cloudfront.net/trip-data/yellow_tripdata_'+year+'-'+month+'.parquet'"
   ]
  },
  {
   "cell_type": "code",
   "execution_count": 5,
   "id": "73460554-f65f-4ecf-a26d-19183c207f19",
   "metadata": {},
   "outputs": [
    {
     "data": {
      "text/plain": [
       "'https://d37ci6vzurychx.cloudfront.net/trip-data/yellow_tripdata_2024-01.parquet'"
      ]
     },
     "execution_count": 5,
     "metadata": {},
     "output_type": "execute_result"
    }
   ],
   "source": [
    "url"
   ]
  },
  {
   "cell_type": "code",
   "execution_count": 6,
   "id": "3a354790-c0a7-4d06-b763-cbaabcfbc5f3",
   "metadata": {},
   "outputs": [],
   "source": [
    "df = pd.read_parquet(url)"
   ]
  },
  {
   "cell_type": "code",
   "execution_count": 7,
   "id": "6b99007f-2995-4dde-92af-931c5b9d9f78",
   "metadata": {},
   "outputs": [
    {
     "data": {
      "text/html": [
       "<div>\n",
       "<style scoped>\n",
       "    .dataframe tbody tr th:only-of-type {\n",
       "        vertical-align: middle;\n",
       "    }\n",
       "\n",
       "    .dataframe tbody tr th {\n",
       "        vertical-align: top;\n",
       "    }\n",
       "\n",
       "    .dataframe thead th {\n",
       "        text-align: right;\n",
       "    }\n",
       "</style>\n",
       "<table border=\"1\" class=\"dataframe\">\n",
       "  <thead>\n",
       "    <tr style=\"text-align: right;\">\n",
       "      <th></th>\n",
       "      <th>VendorID</th>\n",
       "      <th>tpep_pickup_datetime</th>\n",
       "      <th>tpep_dropoff_datetime</th>\n",
       "      <th>passenger_count</th>\n",
       "      <th>trip_distance</th>\n",
       "      <th>RatecodeID</th>\n",
       "      <th>store_and_fwd_flag</th>\n",
       "      <th>PULocationID</th>\n",
       "      <th>DOLocationID</th>\n",
       "      <th>payment_type</th>\n",
       "      <th>fare_amount</th>\n",
       "      <th>extra</th>\n",
       "      <th>mta_tax</th>\n",
       "      <th>tip_amount</th>\n",
       "      <th>tolls_amount</th>\n",
       "      <th>improvement_surcharge</th>\n",
       "      <th>total_amount</th>\n",
       "      <th>congestion_surcharge</th>\n",
       "      <th>Airport_fee</th>\n",
       "    </tr>\n",
       "  </thead>\n",
       "  <tbody>\n",
       "    <tr>\n",
       "      <th>0</th>\n",
       "      <td>2</td>\n",
       "      <td>2024-01-01 00:57:55</td>\n",
       "      <td>2024-01-01 01:17:43</td>\n",
       "      <td>1.0</td>\n",
       "      <td>1.72</td>\n",
       "      <td>1.0</td>\n",
       "      <td>N</td>\n",
       "      <td>186</td>\n",
       "      <td>79</td>\n",
       "      <td>2</td>\n",
       "      <td>17.7</td>\n",
       "      <td>1.0</td>\n",
       "      <td>0.5</td>\n",
       "      <td>0.00</td>\n",
       "      <td>0.0</td>\n",
       "      <td>1.0</td>\n",
       "      <td>22.70</td>\n",
       "      <td>2.5</td>\n",
       "      <td>0.0</td>\n",
       "    </tr>\n",
       "    <tr>\n",
       "      <th>1</th>\n",
       "      <td>1</td>\n",
       "      <td>2024-01-01 00:03:00</td>\n",
       "      <td>2024-01-01 00:09:36</td>\n",
       "      <td>1.0</td>\n",
       "      <td>1.80</td>\n",
       "      <td>1.0</td>\n",
       "      <td>N</td>\n",
       "      <td>140</td>\n",
       "      <td>236</td>\n",
       "      <td>1</td>\n",
       "      <td>10.0</td>\n",
       "      <td>3.5</td>\n",
       "      <td>0.5</td>\n",
       "      <td>3.75</td>\n",
       "      <td>0.0</td>\n",
       "      <td>1.0</td>\n",
       "      <td>18.75</td>\n",
       "      <td>2.5</td>\n",
       "      <td>0.0</td>\n",
       "    </tr>\n",
       "    <tr>\n",
       "      <th>2</th>\n",
       "      <td>1</td>\n",
       "      <td>2024-01-01 00:17:06</td>\n",
       "      <td>2024-01-01 00:35:01</td>\n",
       "      <td>1.0</td>\n",
       "      <td>4.70</td>\n",
       "      <td>1.0</td>\n",
       "      <td>N</td>\n",
       "      <td>236</td>\n",
       "      <td>79</td>\n",
       "      <td>1</td>\n",
       "      <td>23.3</td>\n",
       "      <td>3.5</td>\n",
       "      <td>0.5</td>\n",
       "      <td>3.00</td>\n",
       "      <td>0.0</td>\n",
       "      <td>1.0</td>\n",
       "      <td>31.30</td>\n",
       "      <td>2.5</td>\n",
       "      <td>0.0</td>\n",
       "    </tr>\n",
       "    <tr>\n",
       "      <th>3</th>\n",
       "      <td>1</td>\n",
       "      <td>2024-01-01 00:36:38</td>\n",
       "      <td>2024-01-01 00:44:56</td>\n",
       "      <td>1.0</td>\n",
       "      <td>1.40</td>\n",
       "      <td>1.0</td>\n",
       "      <td>N</td>\n",
       "      <td>79</td>\n",
       "      <td>211</td>\n",
       "      <td>1</td>\n",
       "      <td>10.0</td>\n",
       "      <td>3.5</td>\n",
       "      <td>0.5</td>\n",
       "      <td>2.00</td>\n",
       "      <td>0.0</td>\n",
       "      <td>1.0</td>\n",
       "      <td>17.00</td>\n",
       "      <td>2.5</td>\n",
       "      <td>0.0</td>\n",
       "    </tr>\n",
       "    <tr>\n",
       "      <th>4</th>\n",
       "      <td>1</td>\n",
       "      <td>2024-01-01 00:46:51</td>\n",
       "      <td>2024-01-01 00:52:57</td>\n",
       "      <td>1.0</td>\n",
       "      <td>0.80</td>\n",
       "      <td>1.0</td>\n",
       "      <td>N</td>\n",
       "      <td>211</td>\n",
       "      <td>148</td>\n",
       "      <td>1</td>\n",
       "      <td>7.9</td>\n",
       "      <td>3.5</td>\n",
       "      <td>0.5</td>\n",
       "      <td>3.20</td>\n",
       "      <td>0.0</td>\n",
       "      <td>1.0</td>\n",
       "      <td>16.10</td>\n",
       "      <td>2.5</td>\n",
       "      <td>0.0</td>\n",
       "    </tr>\n",
       "  </tbody>\n",
       "</table>\n",
       "</div>"
      ],
      "text/plain": [
       "   VendorID tpep_pickup_datetime tpep_dropoff_datetime  passenger_count  \\\n",
       "0         2  2024-01-01 00:57:55   2024-01-01 01:17:43              1.0   \n",
       "1         1  2024-01-01 00:03:00   2024-01-01 00:09:36              1.0   \n",
       "2         1  2024-01-01 00:17:06   2024-01-01 00:35:01              1.0   \n",
       "3         1  2024-01-01 00:36:38   2024-01-01 00:44:56              1.0   \n",
       "4         1  2024-01-01 00:46:51   2024-01-01 00:52:57              1.0   \n",
       "\n",
       "   trip_distance  RatecodeID store_and_fwd_flag  PULocationID  DOLocationID  \\\n",
       "0           1.72         1.0                  N           186            79   \n",
       "1           1.80         1.0                  N           140           236   \n",
       "2           4.70         1.0                  N           236            79   \n",
       "3           1.40         1.0                  N            79           211   \n",
       "4           0.80         1.0                  N           211           148   \n",
       "\n",
       "   payment_type  fare_amount  extra  mta_tax  tip_amount  tolls_amount  \\\n",
       "0             2         17.7    1.0      0.5        0.00           0.0   \n",
       "1             1         10.0    3.5      0.5        3.75           0.0   \n",
       "2             1         23.3    3.5      0.5        3.00           0.0   \n",
       "3             1         10.0    3.5      0.5        2.00           0.0   \n",
       "4             1          7.9    3.5      0.5        3.20           0.0   \n",
       "\n",
       "   improvement_surcharge  total_amount  congestion_surcharge  Airport_fee  \n",
       "0                    1.0         22.70                   2.5          0.0  \n",
       "1                    1.0         18.75                   2.5          0.0  \n",
       "2                    1.0         31.30                   2.5          0.0  \n",
       "3                    1.0         17.00                   2.5          0.0  \n",
       "4                    1.0         16.10                   2.5          0.0  "
      ]
     },
     "execution_count": 7,
     "metadata": {},
     "output_type": "execute_result"
    }
   ],
   "source": [
    "df.head(5)"
   ]
  },
  {
   "cell_type": "code",
   "execution_count": 8,
   "id": "b6765ec5-7e7b-4a48-a7a3-3195a2cb2d90",
   "metadata": {},
   "outputs": [],
   "source": [
    "df.tpep_pickup_datetime = pd.to_datetime(df.tpep_pickup_datetime)\n",
    "df.tpep_dropoff_datetime = pd.to_datetime(df.tpep_dropoff_datetime)"
   ]
  },
  {
   "cell_type": "code",
   "execution_count": 9,
   "id": "24ff7026-eac5-415b-b2e0-a8df39b22a86",
   "metadata": {},
   "outputs": [],
   "source": [
    "df.trip_time = None"
   ]
  },
  {
   "cell_type": "code",
   "execution_count": 10,
   "id": "5daabcc2-be5b-44b8-97fc-2a29e2bc1631",
   "metadata": {},
   "outputs": [],
   "source": [
    "df.trip_time= df.tpep_dropoff_datetime - df.tpep_pickup_datetime"
   ]
  },
  {
   "cell_type": "code",
   "execution_count": 26,
   "id": "0017909d-5dc1-4d70-92dd-94c347f236db",
   "metadata": {},
   "outputs": [],
   "source": [
    "df.trip_time = df.trip_time.dt.total_seconds()/60"
   ]
  },
  {
   "cell_type": "code",
   "execution_count": 32,
   "id": "8c442701-1b6e-46db-9346-e6705b8146d3",
   "metadata": {},
   "outputs": [
    {
     "data": {
      "text/plain": [
       "count    2.964624e+06\n",
       "mean     1.561295e+01\n",
       "std      3.485105e+01\n",
       "min     -1.356667e+01\n",
       "25%      7.150000e+00\n",
       "50%      1.163333e+01\n",
       "75%      1.868333e+01\n",
       "max      9.455400e+03\n",
       "dtype: float64"
      ]
     },
     "execution_count": 32,
     "metadata": {},
     "output_type": "execute_result"
    }
   ],
   "source": [
    "df.trip_time.describe()"
   ]
  },
  {
   "cell_type": "code",
   "execution_count": 12,
   "id": "73d83c0c-0ae7-4385-aea7-a23f73d0cc0b",
   "metadata": {},
   "outputs": [
    {
     "data": {
      "text/plain": [
       "0          1.72\n",
       "1          1.80\n",
       "2          4.70\n",
       "3          1.40\n",
       "4          0.80\n",
       "           ... \n",
       "2964619    3.18\n",
       "2964620    4.00\n",
       "2964621    3.33\n",
       "2964622    3.06\n",
       "2964623    8.10\n",
       "Name: trip_distance, Length: 2964624, dtype: float64"
      ]
     },
     "execution_count": 12,
     "metadata": {},
     "output_type": "execute_result"
    }
   ],
   "source": [
    "df.trip_distance"
   ]
  },
  {
   "cell_type": "code",
   "execution_count": 14,
   "id": "c59cb669-c1a9-4977-a812-42474cd55402",
   "metadata": {},
   "outputs": [],
   "source": [
    "df.trip_speed = None"
   ]
  },
  {
   "cell_type": "code",
   "execution_count": 27,
   "id": "812571b4-1b00-4c2b-a89b-b45f5ae50211",
   "metadata": {},
   "outputs": [],
   "source": [
    "df.trip_speed = df.trip_distance / df.trip_time"
   ]
  },
  {
   "cell_type": "code",
   "execution_count": 28,
   "id": "6c387447-66e2-45a0-9fca-ccafefd725ed",
   "metadata": {},
   "outputs": [
    {
     "data": {
      "text/plain": [
       "0          0.086869\n",
       "1          0.272727\n",
       "2          0.262326\n",
       "3          0.168675\n",
       "4          0.131148\n",
       "             ...   \n",
       "2964619    0.369052\n",
       "2964620    0.271186\n",
       "2964621    0.175263\n",
       "2964622    0.171429\n",
       "2964623    0.537017\n",
       "Length: 2964624, dtype: float64"
      ]
     },
     "execution_count": 28,
     "metadata": {},
     "output_type": "execute_result"
    }
   ],
   "source": [
    "df.trip_speed"
   ]
  },
  {
   "cell_type": "code",
   "execution_count": 36,
   "id": "94c3fd1c-f5c6-4a4c-9940-0215442cc630",
   "metadata": {},
   "outputs": [
    {
     "data": {
      "text/plain": [
       "{'whiskers': [<matplotlib.lines.Line2D at 0x765f03b32e50>,\n",
       "  <matplotlib.lines.Line2D at 0x765f03aa9a90>],\n",
       " 'caps': [<matplotlib.lines.Line2D at 0x765f03bbe590>,\n",
       "  <matplotlib.lines.Line2D at 0x765f035825d0>],\n",
       " 'boxes': [<matplotlib.lines.Line2D at 0x765f03bbfbd0>],\n",
       " 'medians': [<matplotlib.lines.Line2D at 0x765f035830d0>],\n",
       " 'fliers': [<matplotlib.lines.Line2D at 0x765f03583450>],\n",
       " 'means': []}"
      ]
     },
     "execution_count": 36,
     "metadata": {},
     "output_type": "execute_result"
    },
    {
     "data": {
      "image/png": "[encoded data removed]",
      "text/plain": [
       "<Figure size 640x480 with 1 Axes>"
      ]
     },
     "metadata": {},
     "output_type": "display_data"
    }
   ],
   "source": [
    "plt.boxplot(df.trip_distance)"
   ]
  }
 ],
 "metadata": {
  "kernelspec": {
   "display_name": "Python 3 (ipykernel)",
   "language": "python",
   "name": "python3"
  },
  "language_info": {
   "codemirror_mode": {
    "name": "ipython",
    "version": 3
   },
   "file_extension": ".py",
   "mimetype": "text/x-python",
   "name": "python",
   "nbconvert_exporter": "python",
   "pygments_lexer": "ipython3",
   "version": "3.11.7"
  }
 },
 "nbformat": 4,
 "nbformat_minor": 5
}
