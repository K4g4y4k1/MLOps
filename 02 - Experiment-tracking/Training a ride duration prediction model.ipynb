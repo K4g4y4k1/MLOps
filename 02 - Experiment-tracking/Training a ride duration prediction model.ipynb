{
 "cells": [
  {
   "cell_type": "code",
   "execution_count": 33,
   "id": "c2b61c55-db09-42c8-9192-4078ca9980bb",
   "metadata": {},
   "outputs": [],
   "source": [
    "import pandas as pd\n",
    "import matplotlib.pyplot as plt\n",
    "import seaborn as sns\n",
    "import warnings\n",
    "warnings.filterwarnings(\"ignore\")"
   ]
  },
  {
   "cell_type": "markdown",
   "id": "dc50c17b-4a7d-42a8-aa3b-5be971e3c0f0",
   "metadata": {},
   "source": [
    "### Download datasource"
   ]
  },
  {
   "cell_type": "code",
   "execution_count": 2,
   "id": "a18445ba-c379-4d73-b019-dcfee7ec00fe",
   "metadata": {},
   "outputs": [],
   "source": [
    "def dataset_creation():\n",
    "    color = input('Color')\n",
    "    year = input('Year')\n",
    "    month = input('Month')\n",
    "    url = 'https://d37ci6vzurychx.cloudfront.net/trip-data/'+color+'_tripdata_'+year+'-'+month+'.parquet'\n",
    "    df = pd.read_parquet(url)\n",
    "    df.lpep_pickup_datetime = pd.to_datetime(df.lpep_pickup_datetime)\n",
    "    df.lpep_dropoff_datetime = pd.to_datetime(df.lpep_dropoff_datetime)\n",
    "    df['duration'] = None\n",
    "    df['duration']= df.lpep_dropoff_datetime - df.lpep_pickup_datetime\n",
    "    df['duration'] = df['duration'].dt.total_seconds()/60\n",
    "    categorical = ['PULocationID','DOLocationID']\n",
    "    numerical = ['trip_distance']\n",
    "    df[categorical] = df[categorical].astype(str)\n",
    "    return df"
   ]
  },
  {
   "cell_type": "code",
   "execution_count": 3,
   "id": "4295b75f-4d3f-45ff-98b2-0e7061426a20",
   "metadata": {},
   "outputs": [
    {
     "name": "stdin",
     "output_type": "stream",
     "text": [
      "Color green\n",
      "Year 2021\n",
      "Month 01\n"
     ]
    }
   ],
   "source": [
    "training_dataset = dataset_creation()"
   ]
  },
  {
   "cell_type": "code",
   "execution_count": 4,
   "id": "04a0a8fa-9c30-4e92-ab4b-a220b6e2b76f",
   "metadata": {},
   "outputs": [
    {
     "name": "stdin",
     "output_type": "stream",
     "text": [
      "Color green\n",
      "Year 2021\n",
      "Month 02\n"
     ]
    }
   ],
   "source": [
    "evaluation_dataset = dataset_creation()"
   ]
  },
  {
   "cell_type": "markdown",
   "id": "a7a0b769-f372-4959-8eda-77bc6fb9c5ed",
   "metadata": {},
   "source": [
    "### Data Cleaning (if necessary)"
   ]
  },
  {
   "cell_type": "code",
   "execution_count": 15,
   "id": "8b6b4393-895b-44d0-bd7e-01271885d6a1",
   "metadata": {},
   "outputs": [],
   "source": [
    "def remove_outliers_iqr(df, column, lower_quantile=0.25, upper_quantile=0.75, factor=1.5):\n",
    "    Q1 = df[column].quantile(lower_quantile)\n",
    "    Q3 = df[column].quantile(upper_quantile)\n",
    "    IQR = Q3 - Q1\n",
    "    lower_bound = Q1 - factor * IQR\n",
    "    upper_bound = Q3 + factor * IQR\n",
    "\n",
    "    filtered_df = df[(df[column] >= lower_bound) & (df[column] <= upper_bound)]\n",
    "    return filtered_df"
   ]
  },
  {
   "cell_type": "code",
   "execution_count": 16,
   "id": "c92ed435-eb80-48f2-8ccb-b3dc6650e98e",
   "metadata": {},
   "outputs": [],
   "source": [
    "training_dataset_cleaned = remove_outliers_iqr(training_dataset, 'duration')"
   ]
  },
  {
   "cell_type": "code",
   "execution_count": 17,
   "id": "1b6d5e6b-2815-4456-a69d-4742219f3991",
   "metadata": {},
   "outputs": [],
   "source": [
    "evaluation_dataset_cleaned = remove_outliers_iqr(evaluation_dataset, 'duration')"
   ]
  },
  {
   "cell_type": "markdown",
   "id": "ea18c41b-f816-4d7b-a6b1-8de03c57d3f6",
   "metadata": {},
   "source": [
    "### Train Model"
   ]
  },
  {
   "cell_type": "code",
   "execution_count": 5,
   "id": "846da5cc-6a0d-47ac-b031-7a3578f37b4a",
   "metadata": {},
   "outputs": [],
   "source": [
    "from sklearn.compose import ColumnTransformer\n",
    "from sklearn.preprocessing import OneHotEncoder, StandardScaler\n",
    "from sklearn.feature_extraction import DictVectorizer\n",
    "from sklearn.linear_model import LinearRegression"
   ]
  },
  {
   "cell_type": "markdown",
   "id": "11c41942-6889-4f33-9759-391caa923590",
   "metadata": {},
   "source": [
    "#### Pre-set Training dataset"
   ]
  },
  {
   "cell_type": "code",
   "execution_count": 6,
   "id": "b444bd65-336f-4328-8c74-cc6b8a19f056",
   "metadata": {},
   "outputs": [],
   "source": [
    "#Feature selection\n",
    "\n",
    "categorical = ['PULocationID','DOLocationID']\n",
    "numerical = ['trip_distance']\n",
    "target = 'duration'"
   ]
  },
  {
   "cell_type": "code",
   "execution_count": 18,
   "id": "2d5b2e6f-1940-4322-b5ec-b034fea0a376",
   "metadata": {},
   "outputs": [],
   "source": [
    "# Vectorizing categorical data\n",
    "dv = DictVectorizer()\n",
    "train_dict = training_dataset_cleaned[categorical + numerical].to_dict(orient='records')    \n",
    "\n",
    "X_train = dv.fit_transform(train_dict)\n",
    "y_train = training_dataset_cleaned[target].values"
   ]
  },
  {
   "cell_type": "code",
   "execution_count": 25,
   "id": "0c361ce1-9865-4bbb-8def-725f193e2540",
   "metadata": {},
   "outputs": [],
   "source": [
    "# Vectorizing Test Dataset\n",
    "\n",
    "test_dict = evaluation_dataset_cleaned[categorical + numerical].to_dict(orient='records')    \n",
    "\n",
    "X_test = dv.transform(test_dict)\n",
    "y_test = evaluation_dataset_cleaned[target].values"
   ]
  },
  {
   "cell_type": "code",
   "execution_count": 19,
   "id": "18a6fa5d-e621-41f3-9f65-d0a0a0a87b71",
   "metadata": {},
   "outputs": [],
   "source": [
    "# Choosing Model\n",
    "\n",
    "model = LinearRegression()"
   ]
  },
  {
   "cell_type": "code",
   "execution_count": 20,
   "id": "a7a1cb45-0072-4b19-b0cb-48d998839c47",
   "metadata": {},
   "outputs": [
    {
     "data": {
      "text/html": [
       "<style>#sk-container-id-2 {color: black;background-color: white;}#sk-container-id-2 pre{padding: 0;}#sk-container-id-2 div.sk-toggleable {background-color: white;}#sk-container-id-2 label.sk-toggleable__label {cursor: pointer;display: block;width: 100%;margin-bottom: 0;padding: 0.3em;box-sizing: border-box;text-align: center;}#sk-container-id-2 label.sk-toggleable__label-arrow:before {content: \"▸\";float: left;margin-right: 0.25em;color: #696969;}#sk-container-id-2 label.sk-toggleable__label-arrow:hover:before {color: black;}#sk-container-id-2 div.sk-estimator:hover label.sk-toggleable__label-arrow:before {color: black;}#sk-container-id-2 div.sk-toggleable__content {max-height: 0;max-width: 0;overflow: hidden;text-align: left;background-color: #f0f8ff;}#sk-container-id-2 div.sk-toggleable__content pre {margin: 0.2em;color: black;border-radius: 0.25em;background-color: #f0f8ff;}#sk-container-id-2 input.sk-toggleable__control:checked~div.sk-toggleable__content {max-height: 200px;max-width: 100%;overflow: auto;}#sk-container-id-2 input.sk-toggleable__control:checked~label.sk-toggleable__label-arrow:before {content: \"▾\";}#sk-container-id-2 div.sk-estimator input.sk-toggleable__control:checked~label.sk-toggleable__label {background-color: #d4ebff;}#sk-container-id-2 div.sk-label input.sk-toggleable__control:checked~label.sk-toggleable__label {background-color: #d4ebff;}#sk-container-id-2 input.sk-hidden--visually {border: 0;clip: rect(1px 1px 1px 1px);clip: rect(1px, 1px, 1px, 1px);height: 1px;margin: -1px;overflow: hidden;padding: 0;position: absolute;width: 1px;}#sk-container-id-2 div.sk-estimator {font-family: monospace;background-color: #f0f8ff;border: 1px dotted black;border-radius: 0.25em;box-sizing: border-box;margin-bottom: 0.5em;}#sk-container-id-2 div.sk-estimator:hover {background-color: #d4ebff;}#sk-container-id-2 div.sk-parallel-item::after {content: \"\";width: 100%;border-bottom: 1px solid gray;flex-grow: 1;}#sk-container-id-2 div.sk-label:hover label.sk-toggleable__label {background-color: #d4ebff;}#sk-container-id-2 div.sk-serial::before {content: \"\";position: absolute;border-left: 1px solid gray;box-sizing: border-box;top: 0;bottom: 0;left: 50%;z-index: 0;}#sk-container-id-2 div.sk-serial {display: flex;flex-direction: column;align-items: center;background-color: white;padding-right: 0.2em;padding-left: 0.2em;position: relative;}#sk-container-id-2 div.sk-item {position: relative;z-index: 1;}#sk-container-id-2 div.sk-parallel {display: flex;align-items: stretch;justify-content: center;background-color: white;position: relative;}#sk-container-id-2 div.sk-item::before, #sk-container-id-2 div.sk-parallel-item::before {content: \"\";position: absolute;border-left: 1px solid gray;box-sizing: border-box;top: 0;bottom: 0;left: 50%;z-index: -1;}#sk-container-id-2 div.sk-parallel-item {display: flex;flex-direction: column;z-index: 1;position: relative;background-color: white;}#sk-container-id-2 div.sk-parallel-item:first-child::after {align-self: flex-end;width: 50%;}#sk-container-id-2 div.sk-parallel-item:last-child::after {align-self: flex-start;width: 50%;}#sk-container-id-2 div.sk-parallel-item:only-child::after {width: 0;}#sk-container-id-2 div.sk-dashed-wrapped {border: 1px dashed gray;margin: 0 0.4em 0.5em 0.4em;box-sizing: border-box;padding-bottom: 0.4em;background-color: white;}#sk-container-id-2 div.sk-label label {font-family: monospace;font-weight: bold;display: inline-block;line-height: 1.2em;}#sk-container-id-2 div.sk-label-container {text-align: center;}#sk-container-id-2 div.sk-container {/* jupyter's `normalize.less` sets `[hidden] { display: none; }` but bootstrap.min.css set `[hidden] { display: none !important; }` so we also need the `!important` here to be able to override the default hidden behavior on the sphinx rendered scikit-learn.org. See: https://github.com/scikit-learn/scikit-learn/issues/21755 */display: inline-block !important;position: relative;}#sk-container-id-2 div.sk-text-repr-fallback {display: none;}</style><div id=\"sk-container-id-2\" class=\"sk-top-container\"><div class=\"sk-text-repr-fallback\"><pre>LinearRegression()</pre><b>In a Jupyter environment, please rerun this cell to show the HTML representation or trust the notebook. <br />On GitHub, the HTML representation is unable to render, please try loading this page with nbviewer.org.</b></div><div class=\"sk-container\" hidden><div class=\"sk-item\"><div class=\"sk-estimator sk-toggleable\"><input class=\"sk-toggleable__control sk-hidden--visually\" id=\"sk-estimator-id-2\" type=\"checkbox\" checked><label for=\"sk-estimator-id-2\" class=\"sk-toggleable__label sk-toggleable__label-arrow\">LinearRegression</label><div class=\"sk-toggleable__content\"><pre>LinearRegression()</pre></div></div></div></div></div>"
      ],
      "text/plain": [
       "LinearRegression()"
      ]
     },
     "execution_count": 20,
     "metadata": {},
     "output_type": "execute_result"
    }
   ],
   "source": [
    "# Training Model\n",
    "\n",
    "model.fit(X_train, y_train)"
   ]
  },
  {
   "cell_type": "code",
   "execution_count": 26,
   "id": "4ed73df9-fcc5-4dfc-bee5-19f121862eed",
   "metadata": {},
   "outputs": [],
   "source": [
    "# Making Prediction\n",
    "\n",
    "y_pred = model.predict(X_test)"
   ]
  },
  {
   "cell_type": "markdown",
   "id": "88d2d351-29a6-4cf9-acd5-41da1fe90636",
   "metadata": {},
   "source": [
    "#### Model evaluation"
   ]
  },
  {
   "cell_type": "code",
   "execution_count": 22,
   "id": "43302c47-d549-4f23-ba83-a4405f59324d",
   "metadata": {},
   "outputs": [],
   "source": [
    "from sklearn.metrics import mean_squared_error, r2_score\n",
    "import seaborn as sns\n",
    "import matplotlib.pyplot as plt"
   ]
  },
  {
   "cell_type": "code",
   "execution_count": 34,
   "id": "77bde62a-936e-4cbb-90bc-80ea887abcd6",
   "metadata": {},
   "outputs": [],
   "source": [
    "def model_evaluator(y_train, y_pred):\n",
    "    # 4. Evaluate the model\n",
    "    mse = mean_squared_error(y_train, y_pred, squared=False)\n",
    "    r2 = r2_score(y_train, y_pred)\n",
    "    \n",
    "    print(f\"Mean Squared Error: {mse:.2f}\")\n",
    "    print(f\"R² Score: {r2:.2f}\")\n",
    "\n",
    "    sns.distplot(y_pred, label='prediction')\n",
    "    sns.distplot(y_train, label='actual')\n",
    "    \n",
    "    plt.legend()"
   ]
  },
  {
   "cell_type": "code",
   "execution_count": 35,
   "id": "78eec2c1-ada0-4d96-96d8-5c5b6d93b8c7",
   "metadata": {},
   "outputs": [
    {
     "name": "stdout",
     "output_type": "stream",
     "text": [
      "Mean Squared Error: 9.46\n",
      "R² Score: 0.25\n"
     ]
    },
    {
     "data": {
      "image/png": "[encoded data removed]",
      "text/plain": [
       "<Figure size 640x480 with 1 Axes>"
      ]
     },
     "metadata": {},
     "output_type": "display_data"
    }
   ],
   "source": [
    "model_evaluator(y_test, y_pred)"
   ]
  }
 ],
 "metadata": {
  "kernelspec": {
   "display_name": "Python 3 (ipykernel)",
   "language": "python",
   "name": "python3"
  },
  "language_info": {
   "codemirror_mode": {
    "name": "ipython",
    "version": 3
   },
   "file_extension": ".py",
   "mimetype": "text/x-python",
   "name": "python",
   "nbconvert_exporter": "python",
   "pygments_lexer": "ipython3",
   "version": "3.11.7"
  }
 },
 "nbformat": 4,
 "nbformat_minor": 5
}
